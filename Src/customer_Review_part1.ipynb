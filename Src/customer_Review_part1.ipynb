{
  "cells": [
    {
      "cell_type": "code",
      "execution_count": 1,
      "metadata": {
        "colab": {
          "base_uri": "https://localhost:8080/"
        },
        "id": "-U9MCkaPI1CB",
        "outputId": "e69b6f1e-df47-4eb2-8424-08456e3f5c10"
      },
      "outputs": [
        {
          "output_type": "stream",
          "name": "stderr",
          "text": [
            "[nltk_data] Downloading package stopwords to /root/nltk_data...\n",
            "[nltk_data]   Unzipping corpora/stopwords.zip.\n",
            "[nltk_data] Downloading package wordnet to /root/nltk_data...\n"
          ]
        },
        {
          "output_type": "execute_result",
          "data": {
            "text/plain": [
              "True"
            ]
          },
          "metadata": {},
          "execution_count": 1
        }
      ],
      "source": [
        "import pandas as pd\n",
        "import nltk\n",
        "import spacy\n",
        "from nltk.corpus import stopwords\n",
        "from nltk.stem import WordNetLemmatizer\n",
        "from sklearn.feature_extraction.text import CountVectorizer\n",
        "from sklearn.model_selection import train_test_split,cross_validate\n",
        "from sklearn.naive_bayes import MultinomialNB\n",
        "from sklearn.metrics import accuracy_score, classification_report\n",
        "nltk.download('stopwords')\n",
        "nltk.download('wordnet')"
      ]
    },
    {
      "cell_type": "code",
      "execution_count": 2,
      "metadata": {
        "id": "r8AcWtn0J5aV"
      },
      "outputs": [],
      "source": [
        "from sklearn.pipeline import Pipeline"
      ]
    },
    {
      "cell_type": "code",
      "execution_count": 3,
      "metadata": {
        "id": "oagGyjstJ5oh"
      },
      "outputs": [],
      "source": [
        "train=pd.read_csv('train.csv')\n",
        "test=pd.read_csv('test.csv')\n",
        "validation=pd.read_csv('validation.csv')"
      ]
    },
    {
      "cell_type": "code",
      "execution_count": 4,
      "metadata": {
        "colab": {
          "base_uri": "https://localhost:8080/"
        },
        "id": "NnQ6bwyFJ5ra",
        "outputId": "d26da479-d578-4a60-90aa-09128264447e"
      },
      "outputs": [
        {
          "output_type": "execute_result",
          "data": {
            "text/plain": [
              "(17877, 5)"
            ]
          },
          "metadata": {},
          "execution_count": 4
        }
      ],
      "source": [
        "train.shape"
      ]
    },
    {
      "cell_type": "code",
      "execution_count": 5,
      "metadata": {
        "colab": {
          "base_uri": "https://localhost:8080/"
        },
        "id": "ZYsi13E3J5uZ",
        "outputId": "4a9b8f85-d0e0-410e-b6bd-9cf2bf1475cd"
      },
      "outputs": [
        {
          "output_type": "execute_result",
          "data": {
            "text/plain": [
              "((3831, 5), (3831, 5))"
            ]
          },
          "metadata": {},
          "execution_count": 5
        }
      ],
      "source": [
        "test.shape,validation.shape"
      ]
    },
    {
      "cell_type": "code",
      "execution_count": 6,
      "metadata": {
        "colab": {
          "base_uri": "https://localhost:8080/",
          "height": 293
        },
        "id": "sx32jG9pMoJF",
        "outputId": "67b001c8-00fb-4ecc-ca3a-66686ff0c3e6"
      },
      "outputs": [
        {
          "output_type": "execute_result",
          "data": {
            "text/plain": [
              "   review_id                           title    year  \\\n",
              "0        460                     Black Squad  2018.0   \n",
              "1       2166   Tree of Savior (English Ver.)  2016.0   \n",
              "2      17242               Eternal Card Game  2016.0   \n",
              "3       6959  Tactical Monsters Rumble Arena  2018.0   \n",
              "4       8807            Yu-Gi-Oh! Duel Links  2017.0   \n",
              "\n",
              "                                         user_review  user_suggestion  \n",
              "0  Early Access ReviewVery great shooter, that ha...                1  \n",
              "1  I love love love playing this game!Super 100%!...                1  \n",
              "2  Early Access ReviewAs a fan of MTG and Hearths...                1  \n",
              "3  Turn based strategy game similiar to FF Tactic...                1  \n",
              "4  This game has an insanely huge download for be...                0  "
            ],
            "text/html": [
              "\n",
              "  <div id=\"df-200e6d1a-dcbc-4d49-8a8a-d95c3926e5c9\" class=\"colab-df-container\">\n",
              "    <div>\n",
              "<style scoped>\n",
              "    .dataframe tbody tr th:only-of-type {\n",
              "        vertical-align: middle;\n",
              "    }\n",
              "\n",
              "    .dataframe tbody tr th {\n",
              "        vertical-align: top;\n",
              "    }\n",
              "\n",
              "    .dataframe thead th {\n",
              "        text-align: right;\n",
              "    }\n",
              "</style>\n",
              "<table border=\"1\" class=\"dataframe\">\n",
              "  <thead>\n",
              "    <tr style=\"text-align: right;\">\n",
              "      <th></th>\n",
              "      <th>review_id</th>\n",
              "      <th>title</th>\n",
              "      <th>year</th>\n",
              "      <th>user_review</th>\n",
              "      <th>user_suggestion</th>\n",
              "    </tr>\n",
              "  </thead>\n",
              "  <tbody>\n",
              "    <tr>\n",
              "      <th>0</th>\n",
              "      <td>460</td>\n",
              "      <td>Black Squad</td>\n",
              "      <td>2018.0</td>\n",
              "      <td>Early Access ReviewVery great shooter, that ha...</td>\n",
              "      <td>1</td>\n",
              "    </tr>\n",
              "    <tr>\n",
              "      <th>1</th>\n",
              "      <td>2166</td>\n",
              "      <td>Tree of Savior (English Ver.)</td>\n",
              "      <td>2016.0</td>\n",
              "      <td>I love love love playing this game!Super 100%!...</td>\n",
              "      <td>1</td>\n",
              "    </tr>\n",
              "    <tr>\n",
              "      <th>2</th>\n",
              "      <td>17242</td>\n",
              "      <td>Eternal Card Game</td>\n",
              "      <td>2016.0</td>\n",
              "      <td>Early Access ReviewAs a fan of MTG and Hearths...</td>\n",
              "      <td>1</td>\n",
              "    </tr>\n",
              "    <tr>\n",
              "      <th>3</th>\n",
              "      <td>6959</td>\n",
              "      <td>Tactical Monsters Rumble Arena</td>\n",
              "      <td>2018.0</td>\n",
              "      <td>Turn based strategy game similiar to FF Tactic...</td>\n",
              "      <td>1</td>\n",
              "    </tr>\n",
              "    <tr>\n",
              "      <th>4</th>\n",
              "      <td>8807</td>\n",
              "      <td>Yu-Gi-Oh! Duel Links</td>\n",
              "      <td>2017.0</td>\n",
              "      <td>This game has an insanely huge download for be...</td>\n",
              "      <td>0</td>\n",
              "    </tr>\n",
              "  </tbody>\n",
              "</table>\n",
              "</div>\n",
              "    <div class=\"colab-df-buttons\">\n",
              "\n",
              "  <div class=\"colab-df-container\">\n",
              "    <button class=\"colab-df-convert\" onclick=\"convertToInteractive('df-200e6d1a-dcbc-4d49-8a8a-d95c3926e5c9')\"\n",
              "            title=\"Convert this dataframe to an interactive table.\"\n",
              "            style=\"display:none;\">\n",
              "\n",
              "  <svg xmlns=\"http://www.w3.org/2000/svg\" height=\"24px\" viewBox=\"0 -960 960 960\">\n",
              "    <path d=\"M120-120v-720h720v720H120Zm60-500h600v-160H180v160Zm220 220h160v-160H400v160Zm0 220h160v-160H400v160ZM180-400h160v-160H180v160Zm440 0h160v-160H620v160ZM180-180h160v-160H180v160Zm440 0h160v-160H620v160Z\"/>\n",
              "  </svg>\n",
              "    </button>\n",
              "\n",
              "  <style>\n",
              "    .colab-df-container {\n",
              "      display:flex;\n",
              "      gap: 12px;\n",
              "    }\n",
              "\n",
              "    .colab-df-convert {\n",
              "      background-color: #E8F0FE;\n",
              "      border: none;\n",
              "      border-radius: 50%;\n",
              "      cursor: pointer;\n",
              "      display: none;\n",
              "      fill: #1967D2;\n",
              "      height: 32px;\n",
              "      padding: 0 0 0 0;\n",
              "      width: 32px;\n",
              "    }\n",
              "\n",
              "    .colab-df-convert:hover {\n",
              "      background-color: #E2EBFA;\n",
              "      box-shadow: 0px 1px 2px rgba(60, 64, 67, 0.3), 0px 1px 3px 1px rgba(60, 64, 67, 0.15);\n",
              "      fill: #174EA6;\n",
              "    }\n",
              "\n",
              "    .colab-df-buttons div {\n",
              "      margin-bottom: 4px;\n",
              "    }\n",
              "\n",
              "    [theme=dark] .colab-df-convert {\n",
              "      background-color: #3B4455;\n",
              "      fill: #D2E3FC;\n",
              "    }\n",
              "\n",
              "    [theme=dark] .colab-df-convert:hover {\n",
              "      background-color: #434B5C;\n",
              "      box-shadow: 0px 1px 3px 1px rgba(0, 0, 0, 0.15);\n",
              "      filter: drop-shadow(0px 1px 2px rgba(0, 0, 0, 0.3));\n",
              "      fill: #FFFFFF;\n",
              "    }\n",
              "  </style>\n",
              "\n",
              "    <script>\n",
              "      const buttonEl =\n",
              "        document.querySelector('#df-200e6d1a-dcbc-4d49-8a8a-d95c3926e5c9 button.colab-df-convert');\n",
              "      buttonEl.style.display =\n",
              "        google.colab.kernel.accessAllowed ? 'block' : 'none';\n",
              "\n",
              "      async function convertToInteractive(key) {\n",
              "        const element = document.querySelector('#df-200e6d1a-dcbc-4d49-8a8a-d95c3926e5c9');\n",
              "        const dataTable =\n",
              "          await google.colab.kernel.invokeFunction('convertToInteractive',\n",
              "                                                    [key], {});\n",
              "        if (!dataTable) return;\n",
              "\n",
              "        const docLinkHtml = 'Like what you see? Visit the ' +\n",
              "          '<a target=\"_blank\" href=https://colab.research.google.com/notebooks/data_table.ipynb>data table notebook</a>'\n",
              "          + ' to learn more about interactive tables.';\n",
              "        element.innerHTML = '';\n",
              "        dataTable['output_type'] = 'display_data';\n",
              "        await google.colab.output.renderOutput(dataTable, element);\n",
              "        const docLink = document.createElement('div');\n",
              "        docLink.innerHTML = docLinkHtml;\n",
              "        element.appendChild(docLink);\n",
              "      }\n",
              "    </script>\n",
              "  </div>\n",
              "\n",
              "\n",
              "<div id=\"df-58fad301-1eef-4706-9f8c-15254fbf2d6a\">\n",
              "  <button class=\"colab-df-quickchart\" onclick=\"quickchart('df-58fad301-1eef-4706-9f8c-15254fbf2d6a')\"\n",
              "            title=\"Suggest charts\"\n",
              "            style=\"display:none;\">\n",
              "\n",
              "<svg xmlns=\"http://www.w3.org/2000/svg\" height=\"24px\"viewBox=\"0 0 24 24\"\n",
              "     width=\"24px\">\n",
              "    <g>\n",
              "        <path d=\"M19 3H5c-1.1 0-2 .9-2 2v14c0 1.1.9 2 2 2h14c1.1 0 2-.9 2-2V5c0-1.1-.9-2-2-2zM9 17H7v-7h2v7zm4 0h-2V7h2v10zm4 0h-2v-4h2v4z\"/>\n",
              "    </g>\n",
              "</svg>\n",
              "  </button>\n",
              "\n",
              "<style>\n",
              "  .colab-df-quickchart {\n",
              "      --bg-color: #E8F0FE;\n",
              "      --fill-color: #1967D2;\n",
              "      --hover-bg-color: #E2EBFA;\n",
              "      --hover-fill-color: #174EA6;\n",
              "      --disabled-fill-color: #AAA;\n",
              "      --disabled-bg-color: #DDD;\n",
              "  }\n",
              "\n",
              "  [theme=dark] .colab-df-quickchart {\n",
              "      --bg-color: #3B4455;\n",
              "      --fill-color: #D2E3FC;\n",
              "      --hover-bg-color: #434B5C;\n",
              "      --hover-fill-color: #FFFFFF;\n",
              "      --disabled-bg-color: #3B4455;\n",
              "      --disabled-fill-color: #666;\n",
              "  }\n",
              "\n",
              "  .colab-df-quickchart {\n",
              "    background-color: var(--bg-color);\n",
              "    border: none;\n",
              "    border-radius: 50%;\n",
              "    cursor: pointer;\n",
              "    display: none;\n",
              "    fill: var(--fill-color);\n",
              "    height: 32px;\n",
              "    padding: 0;\n",
              "    width: 32px;\n",
              "  }\n",
              "\n",
              "  .colab-df-quickchart:hover {\n",
              "    background-color: var(--hover-bg-color);\n",
              "    box-shadow: 0 1px 2px rgba(60, 64, 67, 0.3), 0 1px 3px 1px rgba(60, 64, 67, 0.15);\n",
              "    fill: var(--button-hover-fill-color);\n",
              "  }\n",
              "\n",
              "  .colab-df-quickchart-complete:disabled,\n",
              "  .colab-df-quickchart-complete:disabled:hover {\n",
              "    background-color: var(--disabled-bg-color);\n",
              "    fill: var(--disabled-fill-color);\n",
              "    box-shadow: none;\n",
              "  }\n",
              "\n",
              "  .colab-df-spinner {\n",
              "    border: 2px solid var(--fill-color);\n",
              "    border-color: transparent;\n",
              "    border-bottom-color: var(--fill-color);\n",
              "    animation:\n",
              "      spin 1s steps(1) infinite;\n",
              "  }\n",
              "\n",
              "  @keyframes spin {\n",
              "    0% {\n",
              "      border-color: transparent;\n",
              "      border-bottom-color: var(--fill-color);\n",
              "      border-left-color: var(--fill-color);\n",
              "    }\n",
              "    20% {\n",
              "      border-color: transparent;\n",
              "      border-left-color: var(--fill-color);\n",
              "      border-top-color: var(--fill-color);\n",
              "    }\n",
              "    30% {\n",
              "      border-color: transparent;\n",
              "      border-left-color: var(--fill-color);\n",
              "      border-top-color: var(--fill-color);\n",
              "      border-right-color: var(--fill-color);\n",
              "    }\n",
              "    40% {\n",
              "      border-color: transparent;\n",
              "      border-right-color: var(--fill-color);\n",
              "      border-top-color: var(--fill-color);\n",
              "    }\n",
              "    60% {\n",
              "      border-color: transparent;\n",
              "      border-right-color: var(--fill-color);\n",
              "    }\n",
              "    80% {\n",
              "      border-color: transparent;\n",
              "      border-right-color: var(--fill-color);\n",
              "      border-bottom-color: var(--fill-color);\n",
              "    }\n",
              "    90% {\n",
              "      border-color: transparent;\n",
              "      border-bottom-color: var(--fill-color);\n",
              "    }\n",
              "  }\n",
              "</style>\n",
              "\n",
              "  <script>\n",
              "    async function quickchart(key) {\n",
              "      const quickchartButtonEl =\n",
              "        document.querySelector('#' + key + ' button');\n",
              "      quickchartButtonEl.disabled = true;  // To prevent multiple clicks.\n",
              "      quickchartButtonEl.classList.add('colab-df-spinner');\n",
              "      try {\n",
              "        const charts = await google.colab.kernel.invokeFunction(\n",
              "            'suggestCharts', [key], {});\n",
              "      } catch (error) {\n",
              "        console.error('Error during call to suggestCharts:', error);\n",
              "      }\n",
              "      quickchartButtonEl.classList.remove('colab-df-spinner');\n",
              "      quickchartButtonEl.classList.add('colab-df-quickchart-complete');\n",
              "    }\n",
              "    (() => {\n",
              "      let quickchartButtonEl =\n",
              "        document.querySelector('#df-58fad301-1eef-4706-9f8c-15254fbf2d6a button');\n",
              "      quickchartButtonEl.style.display =\n",
              "        google.colab.kernel.accessAllowed ? 'block' : 'none';\n",
              "    })();\n",
              "  </script>\n",
              "</div>\n",
              "\n",
              "    </div>\n",
              "  </div>\n"
            ],
            "application/vnd.google.colaboratory.intrinsic+json": {
              "type": "dataframe",
              "variable_name": "train",
              "summary": "{\n  \"name\": \"train\",\n  \"rows\": 17877,\n  \"fields\": [\n    {\n      \"column\": \"review_id\",\n      \"properties\": {\n        \"dtype\": \"number\",\n        \"std\": 6385,\n        \"min\": 0,\n        \"max\": 20427,\n        \"num_unique_values\": 14968,\n        \"samples\": [\n          16355,\n          10879,\n          7945\n        ],\n        \"semantic_type\": \"\",\n        \"description\": \"\"\n      }\n    },\n    {\n      \"column\": \"title\",\n      \"properties\": {\n        \"dtype\": \"category\",\n        \"num_unique_values\": 64,\n        \"samples\": [\n          \"RaceRoom Racing Experience\",\n          \"SMITE\\u00ae\",\n          \"Black Squad\"\n        ],\n        \"semantic_type\": \"\",\n        \"description\": \"\"\n      }\n    },\n    {\n      \"column\": \"year\",\n      \"properties\": {\n        \"dtype\": \"number\",\n        \"std\": 1.3697574180800602,\n        \"min\": 2011.0,\n        \"max\": 2018.0,\n        \"num_unique_values\": 8,\n        \"samples\": [\n          2016.0,\n          2013.0,\n          2018.0\n        ],\n        \"semantic_type\": \"\",\n        \"description\": \"\"\n      }\n    },\n    {\n      \"column\": \"user_review\",\n      \"properties\": {\n        \"dtype\": \"string\",\n        \"num_unique_values\": 17873,\n        \"samples\": [\n          \"worst pay to win garbage I've ever seen and that's saying a lot .. you spawn in starter server and go to a store .. it wants currency needed bought through cash payments .. wonder off into wilderness and 20 minutes later doing nothing because I won't pony up my wallet ... this game is pure garbage\",\n          \"Pretty good race sim, especially considering it is a free-to-play. The only problem is the framerate can drop on slightly lower powered machines like mine and the purchasing of extra cars/tracks you want can get expensive.\",\n          \"Its a good game, Its brings back Ragnarok in a new and better way.Look at it as a cross with Maple story (the grind for levels) + Ragnarok (the class and skill systems)Pros++-Alot of Fun classes to try out and build.-Not a very High learning curve for a MMORPG.-Skills and Attaks are pretty decent-Leveling can be fun with party or sometimes even solo-Daily Dungens that give you good expCons---The way the class system is set up can be confusing.-Once you mess a char up, There is no turning back unless you spend money or delete.-Buggy quest and controls in certain locations or to much clicking.-Poor optimaization, running at GTX 1080 8G still has FPS drops at certain areas.-Unable to rotate camera, Sometimes can obstructe your view and even block mobs/npc/players(OverAll)Over all a good game, been putting a lot of hours in it. Late game is also fun with guild wars Just like classic RO.Though this game is grindy, then again what MMORPG does not have a grind. All the more this is Free to play game.This a Grindy MMORPG where you build your character how you want to.Its Not Pay to win that i can assure you, as you can get most of the items in the game for in game SILVER.For more info ill be making an Update guide on my Up coming Youtube Channel. =D \"\n        ],\n        \"semantic_type\": \"\",\n        \"description\": \"\"\n      }\n    },\n    {\n      \"column\": \"user_suggestion\",\n      \"properties\": {\n        \"dtype\": \"number\",\n        \"std\": 0,\n        \"min\": 0,\n        \"max\": 1,\n        \"num_unique_values\": 2,\n        \"samples\": [\n          0,\n          1\n        ],\n        \"semantic_type\": \"\",\n        \"description\": \"\"\n      }\n    }\n  ]\n}"
            }
          },
          "metadata": {},
          "execution_count": 6
        }
      ],
      "source": [
        "train.head(5)"
      ]
    },
    {
      "cell_type": "code",
      "execution_count": 7,
      "metadata": {
        "colab": {
          "base_uri": "https://localhost:8080/",
          "height": 293
        },
        "id": "tSTFXeSZhQEw",
        "outputId": "c2536cf0-7716-467f-cb0a-685d48115060"
      },
      "outputs": [
        {
          "output_type": "execute_result",
          "data": {
            "text/plain": [
              "   review_id                           title    year  \\\n",
              "0      12053          Infestation: The New Z  2016.0   \n",
              "1      12536                          SMITE®  2015.0   \n",
              "2        747               Heroes & Generals  2016.0   \n",
              "3       3214               World of Warships  2018.0   \n",
              "4       4036  World of Guns: Gun Disassembly  2016.0   \n",
              "\n",
              "                                         user_review  user_suggestion  \n",
              "0  Unbelievable that this rehash copy and paste t...                0  \n",
              "1  I can't recommened this game in its current st...                0  \n",
              "2  Early Access ReviewThis game is constantly evo...                0  \n",
              "3  I play this game because it scratches an itch....                0  \n",
              "4  Finally, a game for people like us to enjoy! P...                1  "
            ],
            "text/html": [
              "\n",
              "  <div id=\"df-76eb6334-692c-42a7-97f5-3a12c597a71e\" class=\"colab-df-container\">\n",
              "    <div>\n",
              "<style scoped>\n",
              "    .dataframe tbody tr th:only-of-type {\n",
              "        vertical-align: middle;\n",
              "    }\n",
              "\n",
              "    .dataframe tbody tr th {\n",
              "        vertical-align: top;\n",
              "    }\n",
              "\n",
              "    .dataframe thead th {\n",
              "        text-align: right;\n",
              "    }\n",
              "</style>\n",
              "<table border=\"1\" class=\"dataframe\">\n",
              "  <thead>\n",
              "    <tr style=\"text-align: right;\">\n",
              "      <th></th>\n",
              "      <th>review_id</th>\n",
              "      <th>title</th>\n",
              "      <th>year</th>\n",
              "      <th>user_review</th>\n",
              "      <th>user_suggestion</th>\n",
              "    </tr>\n",
              "  </thead>\n",
              "  <tbody>\n",
              "    <tr>\n",
              "      <th>0</th>\n",
              "      <td>12053</td>\n",
              "      <td>Infestation: The New Z</td>\n",
              "      <td>2016.0</td>\n",
              "      <td>Unbelievable that this rehash copy and paste t...</td>\n",
              "      <td>0</td>\n",
              "    </tr>\n",
              "    <tr>\n",
              "      <th>1</th>\n",
              "      <td>12536</td>\n",
              "      <td>SMITE®</td>\n",
              "      <td>2015.0</td>\n",
              "      <td>I can't recommened this game in its current st...</td>\n",
              "      <td>0</td>\n",
              "    </tr>\n",
              "    <tr>\n",
              "      <th>2</th>\n",
              "      <td>747</td>\n",
              "      <td>Heroes &amp; Generals</td>\n",
              "      <td>2016.0</td>\n",
              "      <td>Early Access ReviewThis game is constantly evo...</td>\n",
              "      <td>0</td>\n",
              "    </tr>\n",
              "    <tr>\n",
              "      <th>3</th>\n",
              "      <td>3214</td>\n",
              "      <td>World of Warships</td>\n",
              "      <td>2018.0</td>\n",
              "      <td>I play this game because it scratches an itch....</td>\n",
              "      <td>0</td>\n",
              "    </tr>\n",
              "    <tr>\n",
              "      <th>4</th>\n",
              "      <td>4036</td>\n",
              "      <td>World of Guns: Gun Disassembly</td>\n",
              "      <td>2016.0</td>\n",
              "      <td>Finally, a game for people like us to enjoy! P...</td>\n",
              "      <td>1</td>\n",
              "    </tr>\n",
              "  </tbody>\n",
              "</table>\n",
              "</div>\n",
              "    <div class=\"colab-df-buttons\">\n",
              "\n",
              "  <div class=\"colab-df-container\">\n",
              "    <button class=\"colab-df-convert\" onclick=\"convertToInteractive('df-76eb6334-692c-42a7-97f5-3a12c597a71e')\"\n",
              "            title=\"Convert this dataframe to an interactive table.\"\n",
              "            style=\"display:none;\">\n",
              "\n",
              "  <svg xmlns=\"http://www.w3.org/2000/svg\" height=\"24px\" viewBox=\"0 -960 960 960\">\n",
              "    <path d=\"M120-120v-720h720v720H120Zm60-500h600v-160H180v160Zm220 220h160v-160H400v160Zm0 220h160v-160H400v160ZM180-400h160v-160H180v160Zm440 0h160v-160H620v160ZM180-180h160v-160H180v160Zm440 0h160v-160H620v160Z\"/>\n",
              "  </svg>\n",
              "    </button>\n",
              "\n",
              "  <style>\n",
              "    .colab-df-container {\n",
              "      display:flex;\n",
              "      gap: 12px;\n",
              "    }\n",
              "\n",
              "    .colab-df-convert {\n",
              "      background-color: #E8F0FE;\n",
              "      border: none;\n",
              "      border-radius: 50%;\n",
              "      cursor: pointer;\n",
              "      display: none;\n",
              "      fill: #1967D2;\n",
              "      height: 32px;\n",
              "      padding: 0 0 0 0;\n",
              "      width: 32px;\n",
              "    }\n",
              "\n",
              "    .colab-df-convert:hover {\n",
              "      background-color: #E2EBFA;\n",
              "      box-shadow: 0px 1px 2px rgba(60, 64, 67, 0.3), 0px 1px 3px 1px rgba(60, 64, 67, 0.15);\n",
              "      fill: #174EA6;\n",
              "    }\n",
              "\n",
              "    .colab-df-buttons div {\n",
              "      margin-bottom: 4px;\n",
              "    }\n",
              "\n",
              "    [theme=dark] .colab-df-convert {\n",
              "      background-color: #3B4455;\n",
              "      fill: #D2E3FC;\n",
              "    }\n",
              "\n",
              "    [theme=dark] .colab-df-convert:hover {\n",
              "      background-color: #434B5C;\n",
              "      box-shadow: 0px 1px 3px 1px rgba(0, 0, 0, 0.15);\n",
              "      filter: drop-shadow(0px 1px 2px rgba(0, 0, 0, 0.3));\n",
              "      fill: #FFFFFF;\n",
              "    }\n",
              "  </style>\n",
              "\n",
              "    <script>\n",
              "      const buttonEl =\n",
              "        document.querySelector('#df-76eb6334-692c-42a7-97f5-3a12c597a71e button.colab-df-convert');\n",
              "      buttonEl.style.display =\n",
              "        google.colab.kernel.accessAllowed ? 'block' : 'none';\n",
              "\n",
              "      async function convertToInteractive(key) {\n",
              "        const element = document.querySelector('#df-76eb6334-692c-42a7-97f5-3a12c597a71e');\n",
              "        const dataTable =\n",
              "          await google.colab.kernel.invokeFunction('convertToInteractive',\n",
              "                                                    [key], {});\n",
              "        if (!dataTable) return;\n",
              "\n",
              "        const docLinkHtml = 'Like what you see? Visit the ' +\n",
              "          '<a target=\"_blank\" href=https://colab.research.google.com/notebooks/data_table.ipynb>data table notebook</a>'\n",
              "          + ' to learn more about interactive tables.';\n",
              "        element.innerHTML = '';\n",
              "        dataTable['output_type'] = 'display_data';\n",
              "        await google.colab.output.renderOutput(dataTable, element);\n",
              "        const docLink = document.createElement('div');\n",
              "        docLink.innerHTML = docLinkHtml;\n",
              "        element.appendChild(docLink);\n",
              "      }\n",
              "    </script>\n",
              "  </div>\n",
              "\n",
              "\n",
              "<div id=\"df-47d47eb9-2167-44f9-a6d8-4e47e22190a6\">\n",
              "  <button class=\"colab-df-quickchart\" onclick=\"quickchart('df-47d47eb9-2167-44f9-a6d8-4e47e22190a6')\"\n",
              "            title=\"Suggest charts\"\n",
              "            style=\"display:none;\">\n",
              "\n",
              "<svg xmlns=\"http://www.w3.org/2000/svg\" height=\"24px\"viewBox=\"0 0 24 24\"\n",
              "     width=\"24px\">\n",
              "    <g>\n",
              "        <path d=\"M19 3H5c-1.1 0-2 .9-2 2v14c0 1.1.9 2 2 2h14c1.1 0 2-.9 2-2V5c0-1.1-.9-2-2-2zM9 17H7v-7h2v7zm4 0h-2V7h2v10zm4 0h-2v-4h2v4z\"/>\n",
              "    </g>\n",
              "</svg>\n",
              "  </button>\n",
              "\n",
              "<style>\n",
              "  .colab-df-quickchart {\n",
              "      --bg-color: #E8F0FE;\n",
              "      --fill-color: #1967D2;\n",
              "      --hover-bg-color: #E2EBFA;\n",
              "      --hover-fill-color: #174EA6;\n",
              "      --disabled-fill-color: #AAA;\n",
              "      --disabled-bg-color: #DDD;\n",
              "  }\n",
              "\n",
              "  [theme=dark] .colab-df-quickchart {\n",
              "      --bg-color: #3B4455;\n",
              "      --fill-color: #D2E3FC;\n",
              "      --hover-bg-color: #434B5C;\n",
              "      --hover-fill-color: #FFFFFF;\n",
              "      --disabled-bg-color: #3B4455;\n",
              "      --disabled-fill-color: #666;\n",
              "  }\n",
              "\n",
              "  .colab-df-quickchart {\n",
              "    background-color: var(--bg-color);\n",
              "    border: none;\n",
              "    border-radius: 50%;\n",
              "    cursor: pointer;\n",
              "    display: none;\n",
              "    fill: var(--fill-color);\n",
              "    height: 32px;\n",
              "    padding: 0;\n",
              "    width: 32px;\n",
              "  }\n",
              "\n",
              "  .colab-df-quickchart:hover {\n",
              "    background-color: var(--hover-bg-color);\n",
              "    box-shadow: 0 1px 2px rgba(60, 64, 67, 0.3), 0 1px 3px 1px rgba(60, 64, 67, 0.15);\n",
              "    fill: var(--button-hover-fill-color);\n",
              "  }\n",
              "\n",
              "  .colab-df-quickchart-complete:disabled,\n",
              "  .colab-df-quickchart-complete:disabled:hover {\n",
              "    background-color: var(--disabled-bg-color);\n",
              "    fill: var(--disabled-fill-color);\n",
              "    box-shadow: none;\n",
              "  }\n",
              "\n",
              "  .colab-df-spinner {\n",
              "    border: 2px solid var(--fill-color);\n",
              "    border-color: transparent;\n",
              "    border-bottom-color: var(--fill-color);\n",
              "    animation:\n",
              "      spin 1s steps(1) infinite;\n",
              "  }\n",
              "\n",
              "  @keyframes spin {\n",
              "    0% {\n",
              "      border-color: transparent;\n",
              "      border-bottom-color: var(--fill-color);\n",
              "      border-left-color: var(--fill-color);\n",
              "    }\n",
              "    20% {\n",
              "      border-color: transparent;\n",
              "      border-left-color: var(--fill-color);\n",
              "      border-top-color: var(--fill-color);\n",
              "    }\n",
              "    30% {\n",
              "      border-color: transparent;\n",
              "      border-left-color: var(--fill-color);\n",
              "      border-top-color: var(--fill-color);\n",
              "      border-right-color: var(--fill-color);\n",
              "    }\n",
              "    40% {\n",
              "      border-color: transparent;\n",
              "      border-right-color: var(--fill-color);\n",
              "      border-top-color: var(--fill-color);\n",
              "    }\n",
              "    60% {\n",
              "      border-color: transparent;\n",
              "      border-right-color: var(--fill-color);\n",
              "    }\n",
              "    80% {\n",
              "      border-color: transparent;\n",
              "      border-right-color: var(--fill-color);\n",
              "      border-bottom-color: var(--fill-color);\n",
              "    }\n",
              "    90% {\n",
              "      border-color: transparent;\n",
              "      border-bottom-color: var(--fill-color);\n",
              "    }\n",
              "  }\n",
              "</style>\n",
              "\n",
              "  <script>\n",
              "    async function quickchart(key) {\n",
              "      const quickchartButtonEl =\n",
              "        document.querySelector('#' + key + ' button');\n",
              "      quickchartButtonEl.disabled = true;  // To prevent multiple clicks.\n",
              "      quickchartButtonEl.classList.add('colab-df-spinner');\n",
              "      try {\n",
              "        const charts = await google.colab.kernel.invokeFunction(\n",
              "            'suggestCharts', [key], {});\n",
              "      } catch (error) {\n",
              "        console.error('Error during call to suggestCharts:', error);\n",
              "      }\n",
              "      quickchartButtonEl.classList.remove('colab-df-spinner');\n",
              "      quickchartButtonEl.classList.add('colab-df-quickchart-complete');\n",
              "    }\n",
              "    (() => {\n",
              "      let quickchartButtonEl =\n",
              "        document.querySelector('#df-47d47eb9-2167-44f9-a6d8-4e47e22190a6 button');\n",
              "      quickchartButtonEl.style.display =\n",
              "        google.colab.kernel.accessAllowed ? 'block' : 'none';\n",
              "    })();\n",
              "  </script>\n",
              "</div>\n",
              "\n",
              "    </div>\n",
              "  </div>\n"
            ],
            "application/vnd.google.colaboratory.intrinsic+json": {
              "type": "dataframe",
              "variable_name": "test",
              "summary": "{\n  \"name\": \"test\",\n  \"rows\": 3831,\n  \"fields\": [\n    {\n      \"column\": \"review_id\",\n      \"properties\": {\n        \"dtype\": \"number\",\n        \"std\": 6394,\n        \"min\": 1,\n        \"max\": 20430,\n        \"num_unique_values\": 3656,\n        \"samples\": [\n          2135,\n          10906,\n          3528\n        ],\n        \"semantic_type\": \"\",\n        \"description\": \"\"\n      }\n    },\n    {\n      \"column\": \"title\",\n      \"properties\": {\n        \"dtype\": \"category\",\n        \"num_unique_values\": 64,\n        \"samples\": [\n          \"Business Tour - Board Game with Online Multiplayer\",\n          \"Digimon Masters Online\",\n          \"Infestation: The New Z\"\n        ],\n        \"semantic_type\": \"\",\n        \"description\": \"\"\n      }\n    },\n    {\n      \"column\": \"year\",\n      \"properties\": {\n        \"dtype\": \"number\",\n        \"std\": 1.361334894446387,\n        \"min\": 2011.0,\n        \"max\": 2018.0,\n        \"num_unique_values\": 8,\n        \"samples\": [\n          2015.0,\n          2012.0,\n          2016.0\n        ],\n        \"semantic_type\": \"\",\n        \"description\": \"\"\n      }\n    },\n    {\n      \"column\": \"user_review\",\n      \"properties\": {\n        \"dtype\": \"string\",\n        \"num_unique_values\": 3831,\n        \"samples\": [\n          \" I don't speak English really well, so try to understand what is implied.  Counter-Strike: Global Offensive Review Counter-Strike is a series of multiplayer FPS games, where two teams, the Terrorists and the Counter-Terrorists, battle for a specific mission. The game was initially a mod for Half-Life, Valve's first game, until the sequels of the game were created some time later.Counter-Strike: Global Offensive is the latest game of the series, and today it is the most-popular competitive FPS game ever played. The game is just basically the same as the first Counter-Strike games, but a ton of additions and improvements were done.  Graphics First, the graphics. This is probably the biggest improvement in the series, as the game now looks more pleasing to the eyes, it has smooth movements throughout the game, and there has been a lot of decal improvements. Compared to the earlier games, Global Offensive provides a better and player-friendly nature thanks of today's modern graphics.Of course all of these cannot be achieved if you don't have the requirements to play on a flawless gameplay, but it is believed that it can run even on entry-level PC's.  Gameplay Gameplay. As I have said before, Global Offensive is mostly the same as the earlier games, consisting of the two game modes Bomb Scenario, wherein Terrorists must plant a bomb to a bomb site in a map and the Counter-Terrorists must defend or defuse the bomb if planted, and Hostage Scenario, wherein Counter-Terrorists must rescue hostages held by Terrorists.Though there are additionals game modes that can be played. These modes are the Arms Race, Demolition, and Deathmatch. (although I believe these modes can be played on the previous games through a mod)Global Offensive also made changes to the gun system, they have added more guns to the shop and made improvements to them.The sound is still the same as the previous ones, however, around this year they have made changes to the guns' sounds, But the sound from Global Offensive is a lot better and clear than the others. Community The community is what most Valve games' community have. There isn't really much to say here, although it's worth mentioning that the community on this game series is actually more friendly and cooperative than other Valve's games. And since this a competitive game, (I'd say highly competitive), a lot of players are pretty serious on playing since this involves a huge amount of cooperation with the team.Toxicity is somewhat not that visible to the game, so players who are really serious about competitive games are present. Miscellaneous Like DOTA 2 and Team Fortress 2, Valve's other popular games, Counter-Strike: Global Offensive has also what they call the inventory system. Here you can get item drops such as gun skins, gun stickers, and cases where you can get the gun skins and stickers. These items can be used to customize your gun loadout, or sell them to the Steam Market, where you can get money from. (If you are lucky, there are rare items which have high price on the market listings where you can sell those rare items for $$$.) Final Notes Overall, this game is one of the best games out there, for a cheap price, and offers a lot of opportunities to choose how you want to play the game. You could try making yourself into the game and go for the rankings, play casually to pass time, or probably to troll just to relieve stress and have fun for yourself. There is a lot of space for you to improve in the game, but still, like most multiplayer game does, playing this game with friends give the best possible experience and gameplay for the game.Counter-Strike: Global Offensive is not a pay-to-win game, and if you wanted to spend money on this game, make sure you just make it worth the money you spend on the game.-----------Definitely get this game if you want to get started on competitive gaming, or if you're just looking for a game that is worth the time and money spending. In fact, the most annoying and irritating things that could occur in the game is actually the most hilarious and most fun to deal with.Counter-Strike is a really popular game, so why not just get the game, and shoot down other players and join the fun?\",\n          \"While writting this review i've over 1000+ hours played, several characters with max lvl and finished all end game content.The good:- pretty good and enjoyable combat system (pretty much the reason i still play it)- decent graphics- option for free 2 play players to get almost everything from the real cash shop (though it's hard and time consuming)- decent events and promotions once in a while (includes pvp events)- hourly activity event system (this is one of the best things which can happen to MMO, it pretty much helps to reduce queue times and give some bonus rewards to the players)The Bad:- This game had few heavy curreny exploits which totaly ruined the econmy. Lot's of the exploited currency was not removed and impact this game to this day. Many exploiters were not banned and run in Best in Slot items without any penalty.- Real money means very little (unless you can spend several thousand of $ on a game). Basically if you would want to get full BIS gear you'd need like ~2k of real $.- Bugs take months to get fixed (if they even bother to fix them in the first place)- Lot's of Overpowered items which come from Lockboxes. (sadly this game is not living on cosmetics stuff like Dota 2)- Several end game instances is often nearly unplayable due to server lags.- Very poor Class Balance- Extremely poor PvP balance (for example, you can move your Best in slot enchant from your high lvl character to a totaly low lvl character and use it in pvp because it have no min. lvl required) - I think i dont have to explain how much impact it have. Even at max lvl pvp there's insane gear gap between players.- Refiling system - pretty much pay to win feature. It makes all your gear useless so you have to spend lot's of real $ to get nearly BIS or BIS gear or pray to get lucky with some extremely rare drops.- This game does very little to reduce the gap between old and new players. If this doesnt change in near future it will be the reason why this game dies.\",\n          \"Interesting, catching, funny and kind of comfortable game with great graphics and really nice community. If you want to spend some time living your Tolkien dreams, talking to awesome people, questing and deeding and crafting and roleplaying, this is just the game for you.Main towns and cities are well-arranged (no big chance to get lost, like I did many times trying to play Dungeons and Dragons), there's efficient navigation, quest tracking system and game guide, smooth and sensitive movement control (I don't get why it's so hard to turn in World of Warcraft or Age of Wulin, but perhaps it's my PC's fault), skill queue, automatic movement towards target (e.g. an ore deposit or a vendor) by right-clicking it and it's easy to get around an object in your path without turning (you just kind of slip around, hardly ever get stuck). Game has a honed race and class system, you can chose from basic to advanced difficulty classes and from 3 trait trees focusing on different skills and have real fun figuring out how to fight best. You can buy your own house, have fun with decorating it, store stuff in the chest (purchaseable space), exhibit your trophies. Crafting is easy and various, crafted items are usually far better than any you can buy (except the stock of the Auction House, where you can put something for sale yourself if you have free slots - VIPs get 30, Premium 5). There are many events where you can win great prizes, you can gain reputation with many societies and get privileges and awesome unique items, you can even chose to play the bad guys (Creeps) and create an orc or warg or spider and fight PvP against the Free Peoples (Freeps) at level 85. In the LOTRO Store you can buy whatever you like for real money, there's a great choice of buffs, additional slots (trait slots, inventory bags, chatacter slots,..), steeds, outfits, quests packs and more. It's not even necessary to use real money - you can earn Turbine points used in the Store by finishing deeds (it's slow, but hey - who gives you something for free these days?).When you're lost, you can always turn to the LOTRO-Wiki, there's usually everything you need to complete any quest or deed, even when you feel it's impossible to figure one out. And if not Wiki, you can get some answers from other players on the Advice chat channel. LOTRO's community is one of the kindest, most generous and most obliging in the gaming world.It's kind of comfortable to play this game, it's thrilling, sometimes scary, often funny and not always trivial. You don't have to quest and level, you can just relax and roleplay or craft or hunt materials, money and reputation. You can freely use the chat to meet great new people, join kinships and fellowships and have plenty of fun socializing. And beware - it's very addictive ;).\"\n        ],\n        \"semantic_type\": \"\",\n        \"description\": \"\"\n      }\n    },\n    {\n      \"column\": \"user_suggestion\",\n      \"properties\": {\n        \"dtype\": \"number\",\n        \"std\": 0,\n        \"min\": 0,\n        \"max\": 1,\n        \"num_unique_values\": 2,\n        \"samples\": [\n          1,\n          0\n        ],\n        \"semantic_type\": \"\",\n        \"description\": \"\"\n      }\n    }\n  ]\n}"
            }
          },
          "metadata": {},
          "execution_count": 7
        }
      ],
      "source": [
        "test.head(5)"
      ]
    },
    {
      "cell_type": "code",
      "execution_count": 8,
      "metadata": {
        "colab": {
          "base_uri": "https://localhost:8080/",
          "height": 293
        },
        "id": "at82Ue1MhS5u",
        "outputId": "6df9d5ee-f3b1-4b35-fa31-f389a03f2b80"
      },
      "outputs": [
        {
          "output_type": "execute_result",
          "data": {
            "text/plain": [
              "   review_id                 title    year  \\\n",
              "0       8604  Dungeon Defenders II  2015.0   \n",
              "1      20407        Minion Masters  2017.0   \n",
              "2        636           Magic Duels  2018.0   \n",
              "3      10217             Robocraft  2016.0   \n",
              "4       9564  Realm of the Mad God  2014.0   \n",
              "\n",
              "                                         user_review  user_suggestion  \n",
              "0  Early Access Review* Ok Played the first DD lo...                1  \n",
              "1  Product received for freeEarly Access ReviewSo...                1  \n",
              "2  Game is extremely unfun to play unless you wan...                0  \n",
              "3  Early Access ReviewThis used to be an amazing ...                0  \n",
              "4  With stunning visuals, an immersive storyline,...                1  "
            ],
            "text/html": [
              "\n",
              "  <div id=\"df-43a04d21-b77a-42fa-aaf0-71194aeb93dd\" class=\"colab-df-container\">\n",
              "    <div>\n",
              "<style scoped>\n",
              "    .dataframe tbody tr th:only-of-type {\n",
              "        vertical-align: middle;\n",
              "    }\n",
              "\n",
              "    .dataframe tbody tr th {\n",
              "        vertical-align: top;\n",
              "    }\n",
              "\n",
              "    .dataframe thead th {\n",
              "        text-align: right;\n",
              "    }\n",
              "</style>\n",
              "<table border=\"1\" class=\"dataframe\">\n",
              "  <thead>\n",
              "    <tr style=\"text-align: right;\">\n",
              "      <th></th>\n",
              "      <th>review_id</th>\n",
              "      <th>title</th>\n",
              "      <th>year</th>\n",
              "      <th>user_review</th>\n",
              "      <th>user_suggestion</th>\n",
              "    </tr>\n",
              "  </thead>\n",
              "  <tbody>\n",
              "    <tr>\n",
              "      <th>0</th>\n",
              "      <td>8604</td>\n",
              "      <td>Dungeon Defenders II</td>\n",
              "      <td>2015.0</td>\n",
              "      <td>Early Access Review* Ok Played the first DD lo...</td>\n",
              "      <td>1</td>\n",
              "    </tr>\n",
              "    <tr>\n",
              "      <th>1</th>\n",
              "      <td>20407</td>\n",
              "      <td>Minion Masters</td>\n",
              "      <td>2017.0</td>\n",
              "      <td>Product received for freeEarly Access ReviewSo...</td>\n",
              "      <td>1</td>\n",
              "    </tr>\n",
              "    <tr>\n",
              "      <th>2</th>\n",
              "      <td>636</td>\n",
              "      <td>Magic Duels</td>\n",
              "      <td>2018.0</td>\n",
              "      <td>Game is extremely unfun to play unless you wan...</td>\n",
              "      <td>0</td>\n",
              "    </tr>\n",
              "    <tr>\n",
              "      <th>3</th>\n",
              "      <td>10217</td>\n",
              "      <td>Robocraft</td>\n",
              "      <td>2016.0</td>\n",
              "      <td>Early Access ReviewThis used to be an amazing ...</td>\n",
              "      <td>0</td>\n",
              "    </tr>\n",
              "    <tr>\n",
              "      <th>4</th>\n",
              "      <td>9564</td>\n",
              "      <td>Realm of the Mad God</td>\n",
              "      <td>2014.0</td>\n",
              "      <td>With stunning visuals, an immersive storyline,...</td>\n",
              "      <td>1</td>\n",
              "    </tr>\n",
              "  </tbody>\n",
              "</table>\n",
              "</div>\n",
              "    <div class=\"colab-df-buttons\">\n",
              "\n",
              "  <div class=\"colab-df-container\">\n",
              "    <button class=\"colab-df-convert\" onclick=\"convertToInteractive('df-43a04d21-b77a-42fa-aaf0-71194aeb93dd')\"\n",
              "            title=\"Convert this dataframe to an interactive table.\"\n",
              "            style=\"display:none;\">\n",
              "\n",
              "  <svg xmlns=\"http://www.w3.org/2000/svg\" height=\"24px\" viewBox=\"0 -960 960 960\">\n",
              "    <path d=\"M120-120v-720h720v720H120Zm60-500h600v-160H180v160Zm220 220h160v-160H400v160Zm0 220h160v-160H400v160ZM180-400h160v-160H180v160Zm440 0h160v-160H620v160ZM180-180h160v-160H180v160Zm440 0h160v-160H620v160Z\"/>\n",
              "  </svg>\n",
              "    </button>\n",
              "\n",
              "  <style>\n",
              "    .colab-df-container {\n",
              "      display:flex;\n",
              "      gap: 12px;\n",
              "    }\n",
              "\n",
              "    .colab-df-convert {\n",
              "      background-color: #E8F0FE;\n",
              "      border: none;\n",
              "      border-radius: 50%;\n",
              "      cursor: pointer;\n",
              "      display: none;\n",
              "      fill: #1967D2;\n",
              "      height: 32px;\n",
              "      padding: 0 0 0 0;\n",
              "      width: 32px;\n",
              "    }\n",
              "\n",
              "    .colab-df-convert:hover {\n",
              "      background-color: #E2EBFA;\n",
              "      box-shadow: 0px 1px 2px rgba(60, 64, 67, 0.3), 0px 1px 3px 1px rgba(60, 64, 67, 0.15);\n",
              "      fill: #174EA6;\n",
              "    }\n",
              "\n",
              "    .colab-df-buttons div {\n",
              "      margin-bottom: 4px;\n",
              "    }\n",
              "\n",
              "    [theme=dark] .colab-df-convert {\n",
              "      background-color: #3B4455;\n",
              "      fill: #D2E3FC;\n",
              "    }\n",
              "\n",
              "    [theme=dark] .colab-df-convert:hover {\n",
              "      background-color: #434B5C;\n",
              "      box-shadow: 0px 1px 3px 1px rgba(0, 0, 0, 0.15);\n",
              "      filter: drop-shadow(0px 1px 2px rgba(0, 0, 0, 0.3));\n",
              "      fill: #FFFFFF;\n",
              "    }\n",
              "  </style>\n",
              "\n",
              "    <script>\n",
              "      const buttonEl =\n",
              "        document.querySelector('#df-43a04d21-b77a-42fa-aaf0-71194aeb93dd button.colab-df-convert');\n",
              "      buttonEl.style.display =\n",
              "        google.colab.kernel.accessAllowed ? 'block' : 'none';\n",
              "\n",
              "      async function convertToInteractive(key) {\n",
              "        const element = document.querySelector('#df-43a04d21-b77a-42fa-aaf0-71194aeb93dd');\n",
              "        const dataTable =\n",
              "          await google.colab.kernel.invokeFunction('convertToInteractive',\n",
              "                                                    [key], {});\n",
              "        if (!dataTable) return;\n",
              "\n",
              "        const docLinkHtml = 'Like what you see? Visit the ' +\n",
              "          '<a target=\"_blank\" href=https://colab.research.google.com/notebooks/data_table.ipynb>data table notebook</a>'\n",
              "          + ' to learn more about interactive tables.';\n",
              "        element.innerHTML = '';\n",
              "        dataTable['output_type'] = 'display_data';\n",
              "        await google.colab.output.renderOutput(dataTable, element);\n",
              "        const docLink = document.createElement('div');\n",
              "        docLink.innerHTML = docLinkHtml;\n",
              "        element.appendChild(docLink);\n",
              "      }\n",
              "    </script>\n",
              "  </div>\n",
              "\n",
              "\n",
              "<div id=\"df-21bf9c59-5014-4735-bc17-13c81039ab8c\">\n",
              "  <button class=\"colab-df-quickchart\" onclick=\"quickchart('df-21bf9c59-5014-4735-bc17-13c81039ab8c')\"\n",
              "            title=\"Suggest charts\"\n",
              "            style=\"display:none;\">\n",
              "\n",
              "<svg xmlns=\"http://www.w3.org/2000/svg\" height=\"24px\"viewBox=\"0 0 24 24\"\n",
              "     width=\"24px\">\n",
              "    <g>\n",
              "        <path d=\"M19 3H5c-1.1 0-2 .9-2 2v14c0 1.1.9 2 2 2h14c1.1 0 2-.9 2-2V5c0-1.1-.9-2-2-2zM9 17H7v-7h2v7zm4 0h-2V7h2v10zm4 0h-2v-4h2v4z\"/>\n",
              "    </g>\n",
              "</svg>\n",
              "  </button>\n",
              "\n",
              "<style>\n",
              "  .colab-df-quickchart {\n",
              "      --bg-color: #E8F0FE;\n",
              "      --fill-color: #1967D2;\n",
              "      --hover-bg-color: #E2EBFA;\n",
              "      --hover-fill-color: #174EA6;\n",
              "      --disabled-fill-color: #AAA;\n",
              "      --disabled-bg-color: #DDD;\n",
              "  }\n",
              "\n",
              "  [theme=dark] .colab-df-quickchart {\n",
              "      --bg-color: #3B4455;\n",
              "      --fill-color: #D2E3FC;\n",
              "      --hover-bg-color: #434B5C;\n",
              "      --hover-fill-color: #FFFFFF;\n",
              "      --disabled-bg-color: #3B4455;\n",
              "      --disabled-fill-color: #666;\n",
              "  }\n",
              "\n",
              "  .colab-df-quickchart {\n",
              "    background-color: var(--bg-color);\n",
              "    border: none;\n",
              "    border-radius: 50%;\n",
              "    cursor: pointer;\n",
              "    display: none;\n",
              "    fill: var(--fill-color);\n",
              "    height: 32px;\n",
              "    padding: 0;\n",
              "    width: 32px;\n",
              "  }\n",
              "\n",
              "  .colab-df-quickchart:hover {\n",
              "    background-color: var(--hover-bg-color);\n",
              "    box-shadow: 0 1px 2px rgba(60, 64, 67, 0.3), 0 1px 3px 1px rgba(60, 64, 67, 0.15);\n",
              "    fill: var(--button-hover-fill-color);\n",
              "  }\n",
              "\n",
              "  .colab-df-quickchart-complete:disabled,\n",
              "  .colab-df-quickchart-complete:disabled:hover {\n",
              "    background-color: var(--disabled-bg-color);\n",
              "    fill: var(--disabled-fill-color);\n",
              "    box-shadow: none;\n",
              "  }\n",
              "\n",
              "  .colab-df-spinner {\n",
              "    border: 2px solid var(--fill-color);\n",
              "    border-color: transparent;\n",
              "    border-bottom-color: var(--fill-color);\n",
              "    animation:\n",
              "      spin 1s steps(1) infinite;\n",
              "  }\n",
              "\n",
              "  @keyframes spin {\n",
              "    0% {\n",
              "      border-color: transparent;\n",
              "      border-bottom-color: var(--fill-color);\n",
              "      border-left-color: var(--fill-color);\n",
              "    }\n",
              "    20% {\n",
              "      border-color: transparent;\n",
              "      border-left-color: var(--fill-color);\n",
              "      border-top-color: var(--fill-color);\n",
              "    }\n",
              "    30% {\n",
              "      border-color: transparent;\n",
              "      border-left-color: var(--fill-color);\n",
              "      border-top-color: var(--fill-color);\n",
              "      border-right-color: var(--fill-color);\n",
              "    }\n",
              "    40% {\n",
              "      border-color: transparent;\n",
              "      border-right-color: var(--fill-color);\n",
              "      border-top-color: var(--fill-color);\n",
              "    }\n",
              "    60% {\n",
              "      border-color: transparent;\n",
              "      border-right-color: var(--fill-color);\n",
              "    }\n",
              "    80% {\n",
              "      border-color: transparent;\n",
              "      border-right-color: var(--fill-color);\n",
              "      border-bottom-color: var(--fill-color);\n",
              "    }\n",
              "    90% {\n",
              "      border-color: transparent;\n",
              "      border-bottom-color: var(--fill-color);\n",
              "    }\n",
              "  }\n",
              "</style>\n",
              "\n",
              "  <script>\n",
              "    async function quickchart(key) {\n",
              "      const quickchartButtonEl =\n",
              "        document.querySelector('#' + key + ' button');\n",
              "      quickchartButtonEl.disabled = true;  // To prevent multiple clicks.\n",
              "      quickchartButtonEl.classList.add('colab-df-spinner');\n",
              "      try {\n",
              "        const charts = await google.colab.kernel.invokeFunction(\n",
              "            'suggestCharts', [key], {});\n",
              "      } catch (error) {\n",
              "        console.error('Error during call to suggestCharts:', error);\n",
              "      }\n",
              "      quickchartButtonEl.classList.remove('colab-df-spinner');\n",
              "      quickchartButtonEl.classList.add('colab-df-quickchart-complete');\n",
              "    }\n",
              "    (() => {\n",
              "      let quickchartButtonEl =\n",
              "        document.querySelector('#df-21bf9c59-5014-4735-bc17-13c81039ab8c button');\n",
              "      quickchartButtonEl.style.display =\n",
              "        google.colab.kernel.accessAllowed ? 'block' : 'none';\n",
              "    })();\n",
              "  </script>\n",
              "</div>\n",
              "\n",
              "    </div>\n",
              "  </div>\n"
            ],
            "application/vnd.google.colaboratory.intrinsic+json": {
              "type": "dataframe",
              "variable_name": "validation",
              "summary": "{\n  \"name\": \"validation\",\n  \"rows\": 3831,\n  \"fields\": [\n    {\n      \"column\": \"review_id\",\n      \"properties\": {\n        \"dtype\": \"number\",\n        \"std\": 6350,\n        \"min\": 0,\n        \"max\": 20407,\n        \"num_unique_values\": 3685,\n        \"samples\": [\n          3735,\n          14968,\n          19812\n        ],\n        \"semantic_type\": \"\",\n        \"description\": \"\"\n      }\n    },\n    {\n      \"column\": \"title\",\n      \"properties\": {\n        \"dtype\": \"category\",\n        \"num_unique_values\": 64,\n        \"samples\": [\n          \"Neverwinter\",\n          \"Shop Heroes\",\n          \"Dungeon Defenders II\"\n        ],\n        \"semantic_type\": \"\",\n        \"description\": \"\"\n      }\n    },\n    {\n      \"column\": \"year\",\n      \"properties\": {\n        \"dtype\": \"number\",\n        \"std\": 1.3957262873268779,\n        \"min\": 2011.0,\n        \"max\": 2018.0,\n        \"num_unique_values\": 8,\n        \"samples\": [\n          2017.0,\n          2012.0,\n          2015.0\n        ],\n        \"semantic_type\": \"\",\n        \"description\": \"\"\n      }\n    },\n    {\n      \"column\": \"user_review\",\n      \"properties\": {\n        \"dtype\": \"string\",\n        \"num_unique_values\": 3831,\n        \"samples\": [\n          \"Early Access ReviewIt was good while it lasted; turns out you can't teach an old dog new tricks. Except in this case the dog is Hi-Rez and the trick is not ruining their games for once.\",\n          \"Dota 2 is one of those rare games which can get you addicted, but since you can play a game within an hour, you can stop it after each game with satisfaction - as in contrast to those endless MMORPGs.I've been playing it since the very release of the original Defense of the Ancients, and I still can't get bored with it. I've seen many friends who started out as total newbies and became very skilled. With Dota 2's matchmaking - even though it has its obvious flaws - it's even more fun for a beginner to get into the game. All in all, Dota2 is definately worth trying - even more so since it's free to play, and promises thousands of hours of potential fun!Feel free to try my Dota 2 themed Windows Desktop skin collection pack too, which you can find in the Dota 2 Artwork gallery:http://steamcommunity.com/sharedfiles/filedetails/?id=176107812 \",\n          \"It has a cartoony, fun style with more customization on both looks and abilities than any other game I've ever played. Like playing a healing paladin? You can make it! Like playing a gun toting super soldier with an attitude? You can make it! Like playing a vampire who glitters in sunlight and can control people's minds, bite them and suck their blood? YOU CAN MAKE IT!The raw customization this game gives you for free outshines most other games that make you pay for customization. Sure, it has quite a few options that require paying Zen, but it also has a (though slow to aquire) way to earn Zen just by playing the game. Questionite (one of the currencies) can be sold for Zen, and that can be used to buy anything from the cash store. Yeah, I did say it was slow, but another option is buying items with in game resources from the auction house. Almost anything that is tradable can be purchased there.Also, if you don't like the comic style outline, you can turn it off and have it look more like the other two superhero games and still have the extra customization this one affords you!\"\n        ],\n        \"semantic_type\": \"\",\n        \"description\": \"\"\n      }\n    },\n    {\n      \"column\": \"user_suggestion\",\n      \"properties\": {\n        \"dtype\": \"number\",\n        \"std\": 0,\n        \"min\": 0,\n        \"max\": 1,\n        \"num_unique_values\": 2,\n        \"samples\": [\n          0,\n          1\n        ],\n        \"semantic_type\": \"\",\n        \"description\": \"\"\n      }\n    }\n  ]\n}"
            }
          },
          "metadata": {},
          "execution_count": 8
        }
      ],
      "source": [
        "validation.head(5)"
      ]
    },
    {
      "cell_type": "code",
      "execution_count": 9,
      "metadata": {
        "id": "Oj8YRKogKa1M"
      },
      "outputs": [],
      "source": [
        "nlp=spacy.load('en_core_web_sm',disable='ner')"
      ]
    },
    {
      "cell_type": "code",
      "execution_count": 10,
      "metadata": {
        "id": "54DybqVYKa4d"
      },
      "outputs": [],
      "source": [
        "def preprossing(text):\n",
        "  preprocess=[]\n",
        "  for doc in nlp.pipe(text,n_process=-1):\n",
        "    pre=[token.lemma_.lower() for token in doc if token.is_alpha and token.lemma_ not in nlp.Defaults.stop_words]\n",
        "    pre=' '.join(pre)\n",
        "    preprocess.append(pre)\n",
        "  return preprocess\n",
        "\n"
      ]
    },
    {
      "cell_type": "code",
      "execution_count": 11,
      "metadata": {
        "id": "uj894ZT0Ka7E"
      },
      "outputs": [],
      "source": [
        "train['user_review']=preprossing(train['user_review'])\n"
      ]
    },
    {
      "cell_type": "code",
      "execution_count": 12,
      "metadata": {
        "id": "F9SBdsoZKa-C"
      },
      "outputs": [],
      "source": [
        "test['user_review']=preprossing(test['user_review'])\n",
        "validation['user_review']=preprossing(validation['user_review'])\n",
        "\n"
      ]
    },
    {
      "cell_type": "code",
      "execution_count": 13,
      "metadata": {
        "colab": {
          "base_uri": "https://localhost:8080/",
          "height": 458
        },
        "id": "JU44vOpkSGwj",
        "outputId": "54f21b9d-fa10-439a-b7f8-1ac180028bb3"
      },
      "outputs": [
        {
          "output_type": "execute_result",
          "data": {
            "text/plain": [
              "0        early access reviewvery great shooter original...\n",
              "1        i love love love play lot class choose bound s...\n",
              "2        early access reviewas fan mtg hearthstone fun ...\n",
              "3        turn base strategy game similiar ff tactic day...\n",
              "4        game insanely huge download phone game blast v...\n",
              "                               ...                        \n",
              "17872    early access reviewan interesting game kill i ...\n",
              "17873    early access spend minute queue match people a...\n",
              "17874    product receive freeearly access reviewgame ne...\n",
              "17875    day i completely entrance game i finally manag...\n",
              "17876    i hate clicker waste time exception character ...\n",
              "Name: user_review, Length: 17877, dtype: object"
            ],
            "text/html": [
              "<div>\n",
              "<style scoped>\n",
              "    .dataframe tbody tr th:only-of-type {\n",
              "        vertical-align: middle;\n",
              "    }\n",
              "\n",
              "    .dataframe tbody tr th {\n",
              "        vertical-align: top;\n",
              "    }\n",
              "\n",
              "    .dataframe thead th {\n",
              "        text-align: right;\n",
              "    }\n",
              "</style>\n",
              "<table border=\"1\" class=\"dataframe\">\n",
              "  <thead>\n",
              "    <tr style=\"text-align: right;\">\n",
              "      <th></th>\n",
              "      <th>user_review</th>\n",
              "    </tr>\n",
              "  </thead>\n",
              "  <tbody>\n",
              "    <tr>\n",
              "      <th>0</th>\n",
              "      <td>early access reviewvery great shooter original...</td>\n",
              "    </tr>\n",
              "    <tr>\n",
              "      <th>1</th>\n",
              "      <td>i love love love play lot class choose bound s...</td>\n",
              "    </tr>\n",
              "    <tr>\n",
              "      <th>2</th>\n",
              "      <td>early access reviewas fan mtg hearthstone fun ...</td>\n",
              "    </tr>\n",
              "    <tr>\n",
              "      <th>3</th>\n",
              "      <td>turn base strategy game similiar ff tactic day...</td>\n",
              "    </tr>\n",
              "    <tr>\n",
              "      <th>4</th>\n",
              "      <td>game insanely huge download phone game blast v...</td>\n",
              "    </tr>\n",
              "    <tr>\n",
              "      <th>...</th>\n",
              "      <td>...</td>\n",
              "    </tr>\n",
              "    <tr>\n",
              "      <th>17872</th>\n",
              "      <td>early access reviewan interesting game kill i ...</td>\n",
              "    </tr>\n",
              "    <tr>\n",
              "      <th>17873</th>\n",
              "      <td>early access spend minute queue match people a...</td>\n",
              "    </tr>\n",
              "    <tr>\n",
              "      <th>17874</th>\n",
              "      <td>product receive freeearly access reviewgame ne...</td>\n",
              "    </tr>\n",
              "    <tr>\n",
              "      <th>17875</th>\n",
              "      <td>day i completely entrance game i finally manag...</td>\n",
              "    </tr>\n",
              "    <tr>\n",
              "      <th>17876</th>\n",
              "      <td>i hate clicker waste time exception character ...</td>\n",
              "    </tr>\n",
              "  </tbody>\n",
              "</table>\n",
              "<p>17877 rows × 1 columns</p>\n",
              "</div><br><label><b>dtype:</b> object</label>"
            ]
          },
          "metadata": {},
          "execution_count": 13
        }
      ],
      "source": [
        "train['user_review']"
      ]
    },
    {
      "cell_type": "markdown",
      "metadata": {
        "id": "IbUFvxx3hhTG"
      },
      "source": [
        "#one hot encoder"
      ]
    },
    {
      "cell_type": "code",
      "execution_count": 14,
      "metadata": {
        "id": "TSKrrEVUb4cW"
      },
      "outputs": [],
      "source": [
        "counter_vec=CountVectorizer(min_df=0.001,binary=True)"
      ]
    },
    {
      "cell_type": "code",
      "execution_count": 15,
      "metadata": {
        "id": "vVJ6GVAVb4wd"
      },
      "outputs": [],
      "source": [
        "counter_vec_ohe=counter_vec.fit_transform(train['user_review'])"
      ]
    },
    {
      "cell_type": "code",
      "execution_count": 16,
      "metadata": {
        "colab": {
          "base_uri": "https://localhost:8080/"
        },
        "id": "4JnNGqLmb4z1",
        "outputId": "b03b5f8e-9130-4498-bc47-b6979087f710"
      },
      "outputs": [
        {
          "output_type": "execute_result",
          "data": {
            "text/plain": [
              "0.8452760530290317"
            ]
          },
          "metadata": {},
          "execution_count": 16
        }
      ],
      "source": [
        "naivebayes=MultinomialNB()\n",
        "naivebayes.fit(counter_vec_ohe,train['user_suggestion'])\n",
        "naivebayes.score(counter_vec_ohe,train['user_suggestion'])"
      ]
    },
    {
      "cell_type": "code",
      "execution_count": 17,
      "metadata": {
        "id": "7LNMgrZNghAM"
      },
      "outputs": [],
      "source": [
        "counter_vec_val=counter_vec.transform(validation['user_review'])"
      ]
    },
    {
      "cell_type": "code",
      "execution_count": 18,
      "metadata": {
        "colab": {
          "base_uri": "https://localhost:8080/"
        },
        "id": "dFQwKzedb424",
        "outputId": "8963ee90-5f77-49d0-ba72-ce008f36880d"
      },
      "outputs": [
        {
          "output_type": "execute_result",
          "data": {
            "text/plain": [
              "0.8861915948838424"
            ]
          },
          "metadata": {},
          "execution_count": 18
        }
      ],
      "source": [
        "naivebayes.fit(counter_vec_val,validation['user_suggestion'])\n",
        "naivebayes.score(counter_vec_val,validation['user_suggestion'])"
      ]
    },
    {
      "cell_type": "markdown",
      "metadata": {
        "id": "RoLhQsPbhvjo"
      },
      "source": [
        "# count vecterizer"
      ]
    },
    {
      "cell_type": "code",
      "execution_count": 19,
      "metadata": {
        "colab": {
          "base_uri": "https://localhost:8080/"
        },
        "id": "z0O7Gausb46H",
        "outputId": "c0786edc-2327-46ec-e43c-795a69957cf0"
      },
      "outputs": [
        {
          "output_type": "execute_result",
          "data": {
            "text/plain": [
              "0.8388991441517033"
            ]
          },
          "metadata": {},
          "execution_count": 19
        }
      ],
      "source": [
        "counter_vecterizer=CountVectorizer(min_df=0.001)\n",
        "counter_vecterizer_train=counter_vecterizer.fit_transform(train['user_review'])\n",
        "navie=MultinomialNB()\n",
        "navie.fit(counter_vecterizer_train,train['user_suggestion'])\n",
        "navie.score(counter_vecterizer_train,train['user_suggestion'])\n"
      ]
    },
    {
      "cell_type": "code",
      "execution_count": 20,
      "metadata": {
        "colab": {
          "base_uri": "https://localhost:8080/"
        },
        "id": "caFUcDI5b49e",
        "outputId": "bbde8ba4-c563-41b8-a92e-79f1f8a94c8b"
      },
      "outputs": [
        {
          "output_type": "execute_result",
          "data": {
            "text/plain": [
              "0.880187940485513"
            ]
          },
          "metadata": {},
          "execution_count": 20
        }
      ],
      "source": [
        "counter_vecterizer_val=counter_vecterizer.transform(validation['user_review'])\n",
        "navie.fit(counter_vecterizer_val,validation['user_suggestion'])\n",
        "navie.score(counter_vecterizer_val,validation['user_suggestion'])"
      ]
    },
    {
      "cell_type": "code",
      "execution_count": 21,
      "metadata": {
        "colab": {
          "base_uri": "https://localhost:8080/"
        },
        "id": "ND86xFCONVMH",
        "outputId": "257e4f86-f112-497c-f3b3-a132516f2dff"
      },
      "outputs": [
        {
          "output_type": "execute_result",
          "data": {
            "text/plain": [
              "0.8414722828215024"
            ]
          },
          "metadata": {},
          "execution_count": 21
        }
      ],
      "source": [
        "from sklearn.feature_extraction.text import TfidfVectorizer\n",
        "tfid=TfidfVectorizer(min_df=0.001)\n",
        "tfid_trans=tfid.fit_transform(train['user_review'])\n",
        "model=MultinomialNB()\n",
        "model.fit(tfid_trans,train['user_suggestion'])\n",
        "model.score(tfid_trans,train['user_suggestion'])"
      ]
    },
    {
      "cell_type": "code",
      "execution_count": 22,
      "metadata": {
        "colab": {
          "base_uri": "https://localhost:8080/"
        },
        "id": "4tHXvUi4NVkG",
        "outputId": "08dddfc6-ef12-4734-af0c-6d25b1bcf7a1"
      },
      "outputs": [
        {
          "output_type": "execute_result",
          "data": {
            "text/plain": [
              "0.8820151396502218"
            ]
          },
          "metadata": {},
          "execution_count": 22
        }
      ],
      "source": [
        "tfid_trans_val=tfid.transform(validation['user_review'])\n",
        "model.fit(tfid_trans_val,validation['user_suggestion'])\n",
        "model.score(tfid_trans_val,validation['user_suggestion'])"
      ]
    },
    {
      "cell_type": "markdown",
      "metadata": {
        "id": "tyTdagFzdazf"
      },
      "source": [
        "#tfidf with n-grams"
      ]
    },
    {
      "cell_type": "code",
      "execution_count": 23,
      "metadata": {
        "colab": {
          "base_uri": "https://localhost:8080/"
        },
        "id": "cf8dVfPgdiug",
        "outputId": "25c54330-7dde-4c22-df72-4c3c5e280cff"
      },
      "outputs": [
        {
          "output_type": "execute_result",
          "data": {
            "text/plain": [
              "0.859204564524249"
            ]
          },
          "metadata": {},
          "execution_count": 23
        }
      ],
      "source": [
        "from sklearn.feature_extraction.text import TfidfVectorizer\n",
        "tfid_ngram=TfidfVectorizer(min_df=0.001,ngram_range=(1,3))\n",
        "tfid_ngram_trans=tfid_ngram.fit_transform(train['user_review'])\n",
        "model_ngram=MultinomialNB()\n",
        "model_ngram.fit(tfid_ngram_trans,train['user_suggestion'])\n",
        "model_ngram.score(tfid_ngram_trans,train['user_suggestion'])"
      ]
    },
    {
      "cell_type": "code",
      "execution_count": 24,
      "metadata": {
        "colab": {
          "base_uri": "https://localhost:8080/"
        },
        "id": "7UHmYF4kdizm",
        "outputId": "7072767c-3dd5-4c0f-ea9a-c9df5f321977"
      },
      "outputs": [
        {
          "output_type": "execute_result",
          "data": {
            "text/plain": [
              "0.8995040459410075"
            ]
          },
          "metadata": {},
          "execution_count": 24
        }
      ],
      "source": [
        "tfid_ngram_val=tfid_ngram.transform(validation['user_review'])\n",
        "model_ngram.fit(tfid_ngram_val,validation['user_suggestion'])\n",
        "model_ngram.score(tfid_ngram_val,validation['user_suggestion'])"
      ]
    },
    {
      "cell_type": "code",
      "execution_count": 25,
      "metadata": {
        "id": "3pRBBwfMdi6I"
      },
      "outputs": [],
      "source": [
        "import spacy\n",
        "nlp=spacy.load('en_core_web_sm')\n",
        "def removing_nouns(df):\n",
        "  Preprocessing_text=[]\n",
        "  for doc in df['user_review']:\n",
        "    pre=[token.text for token in nlp(doc) if token.pos_ not in ['NOUN','PROPN']]\n",
        "    pre=' '.join(pre)\n",
        "    Preprocessing_text.append(pre)\n",
        "  return Preprocessing_text"
      ]
    },
    {
      "cell_type": "code",
      "execution_count": 26,
      "metadata": {
        "id": "n74L_Xr8DA5F"
      },
      "outputs": [],
      "source": [
        "train_noun=removing_nouns(train)\n"
      ]
    },
    {
      "cell_type": "code",
      "execution_count": 27,
      "metadata": {
        "colab": {
          "base_uri": "https://localhost:8080/"
        },
        "id": "RaI67DbhD-Rt",
        "outputId": "4c3831c6-ea09-4a89-de98-4096a1a73000"
      },
      "outputs": [
        {
          "output_type": "execute_result",
          "data": {
            "text/plain": [
              "0.8118811881188119"
            ]
          },
          "metadata": {},
          "execution_count": 27
        }
      ],
      "source": [
        "tfid=TfidfVectorizer(min_df=0.001,ngram_range=(1,3))\n",
        "tfid_trans=tfid.fit_transform(train_noun)\n",
        "model=MultinomialNB()\n",
        "model.fit(tfid_trans,train['user_suggestion'])\n",
        "model.score(tfid_trans,train['user_suggestion'])"
      ]
    },
    {
      "cell_type": "code",
      "execution_count": 79,
      "metadata": {
        "id": "iIWdl5biDcVI"
      },
      "outputs": [],
      "source": [
        "\n",
        "import torch\n",
        "import torch.nn as nn\n",
        "import torch.nn.functional as F\n",
        "import torch.optim as optim\n",
        "import numpy as np\n",
        "from torch.utils.data import TensorDataset,DataLoader"
      ]
    },
    {
      "cell_type": "code",
      "execution_count": 80,
      "metadata": {
        "id": "15Xh3fr-Im5N"
      },
      "outputs": [],
      "source": [
        "tfid=TfidfVectorizer(min_df=0.001,ngram_range=(1,3))\n",
        "tfid_trans=tfid.fit_transform(train['user_review'])\n",
        "tfid_trans_val=tfid.transform(validation['user_review'])\n"
      ]
    },
    {
      "cell_type": "code",
      "execution_count": 81,
      "metadata": {
        "id": "BGsaDxTsKgYK"
      },
      "outputs": [],
      "source": [
        "tfid_trans=torch.tensor(tfid_trans.toarray(),dtype=torch.float32)\n",
        "tfid_trans_val=torch.tensor(tfid_trans_val.toarray(),dtype=torch.float32)"
      ]
    },
    {
      "cell_type": "code",
      "execution_count": 82,
      "metadata": {
        "id": "CC03K6NfKhGf"
      },
      "outputs": [],
      "source": [
        "y_train=torch.tensor(train['user_suggestion'],dtype=torch.float32)\n",
        "y_val=torch.tensor(validation['user_suggestion'],dtype=torch.float32)"
      ]
    },
    {
      "cell_type": "code",
      "execution_count": 83,
      "metadata": {
        "id": "YPe0_vIDUdZK"
      },
      "outputs": [],
      "source": [
        "dataset=TensorDataset(tfid_trans,y_train)\n",
        "dataset_val=TensorDataset(tfid_trans_val,y_val)\n",
        "dataloader=DataLoader(dataset,batch_size=64,shuffle=True)\n",
        "dataloader_val=DataLoader(dataset_val,batch_size=64)"
      ]
    },
    {
      "cell_type": "code",
      "execution_count": 85,
      "metadata": {
        "id": "iTPLsRdBU5uv"
      },
      "outputs": [],
      "source": [
        "class neuralnetworks(nn.Module):\n",
        "    def __init__(self):\n",
        "        super(neuralnetworks, self).__init__()\n",
        "        self.fc1 = nn.Linear(tfid_trans.shape[1], 128)\n",
        "        self.bn1 = nn.BatchNorm1d(128)  # Batch normalization layer\n",
        "        self.dropout = nn.Dropout(0.6)\n",
        "        self.fc2 = nn.Linear(128, 64)\n",
        "        self.bn2=nn.BatchNorm1d(64)\n",
        "        self.dropout = nn.Dropout(0.6)\n",
        "        self.fc3 = nn.Linear(64, 1)\n",
        "\n",
        "    def forward(self, x):\n",
        "        x = F.leaky_relu(self.bn1(self.fc1(x)),negative_slope=0.01)\n",
        "        x = self.dropout(x)\n",
        "        x = F.leaky_relu(self.bn2(self.fc2(x)),negative_slope=0.01)\n",
        "        x = self.dropout(x)\n",
        "        x = torch.sigmoid(self.fc3(x))\n",
        "        return x"
      ]
    },
    {
      "cell_type": "code",
      "execution_count": 86,
      "metadata": {
        "id": "lvwFMUDfwIsp"
      },
      "outputs": [],
      "source": [
        "device=torch.device('cuda' if torch.cuda.is_available() else 'cpu')\n",
        "model=neuralnetworks().to(device)"
      ]
    },
    {
      "cell_type": "code",
      "execution_count": 87,
      "metadata": {
        "id": "c5UaDRraU5xD"
      },
      "outputs": [],
      "source": [
        "from sklearn.metrics import f1_score,log_loss\n",
        "from torch.optim import Adam\n",
        "loss=nn.BCELoss()"
      ]
    },
    {
      "cell_type": "code",
      "execution_count": 97,
      "metadata": {
        "id": "4UqIUdQ4U50d"
      },
      "outputs": [],
      "source": [
        "def module(model, lr, optimizer, epoches):\n",
        "    trainloss_list = []\n",
        "    validationloss_list = []\n",
        "    best_val_loss=float('inf')\n",
        "    patiency=0\n",
        "    max_patiency=10\n",
        "    for epoch in range(epoches):\n",
        "        model.train()\n",
        "        train_loss = 0\n",
        "        for xbatch1, ybatch1 in dataloader:\n",
        "            xbatch1 = xbatch1.to(device)\n",
        "            ybatch1 = ybatch1.to(device)\n",
        "            predict1 = model(xbatch1)\n",
        "            loss_value = loss(predict1.squeeze(), ybatch1)\n",
        "            optimizer.zero_grad()\n",
        "            loss_value.backward()\n",
        "            optimizer.step()\n",
        "            train_loss += loss_value.item()\n",
        "        avg_train_loss = train_loss / len(dataloader)\n",
        "        trainloss_list.append(avg_train_loss)\n",
        "\n",
        "        model.eval()\n",
        "        validation_loss = 0\n",
        "        for xbatch, ybatch in dataloader_val:\n",
        "            xbatch = xbatch.to(device)\n",
        "            ybatch = ybatch.to(device)\n",
        "            with torch.no_grad():\n",
        "                predict2 = model(xbatch)\n",
        "                loss_value = loss(predict2.squeeze(), ybatch)\n",
        "                validation_loss += loss_value.item()\n",
        "        avg_validation_loss = validation_loss / len(dataloader_val)\n",
        "        validationloss_list.append(avg_validation_loss)\n",
        "        f1score_train = f1_score(ybatch1.cpu().numpy(), torch.round(predict1.squeeze().detach()).cpu().numpy())\n",
        "        f1score_val = f1_score(ybatch.cpu().numpy(), torch.round(predict2.squeeze().detach()).cpu().numpy())\n",
        "\n",
        "        # The following lines were indented incorrectly, causing the error.\n",
        "        # They should be aligned with the 'for' loop above.\n",
        "        if best_val_loss>avg_validation_loss:\n",
        "            best_val_loss=avg_validation_loss\n",
        "            patiency=0\n",
        "\n",
        "        else:\n",
        "            patiency+=1\n",
        "        if patiency>max_patiency:\n",
        "            print(f'early stopping {epoch+1}')\n",
        "            break\n",
        "\n",
        "        # print for specified epochs\n",
        "        if (epoch+1)%10==0:\n",
        "            print(f'Epoch:{epoch+1}/{epoches},trainloss:{avg_train_loss:.16f},testloss:{avg_validation_loss},f1score_train:{f1score_train:.16f},f1score_val:{f1score_val:.16f}')"
      ]
    },
    {
      "cell_type": "code",
      "execution_count": 99,
      "metadata": {
        "colab": {
          "base_uri": "https://localhost:8080/"
        },
        "id": "r2WGGuqwqXdC",
        "outputId": "939aa49c-61eb-4406-eb92-fcddab92b955"
      },
      "outputs": [
        {
          "output_type": "stream",
          "name": "stdout",
          "text": [
            "Epoch:10/50,trainloss:0.1279654947708228,testloss:0.476226041217645,f1score_train:1.0000000000000000,f1score_val:0.8615384615384616\n",
            "early stopping 19\n"
          ]
        }
      ],
      "source": [
        "lr=0.001\n",
        "optimizer=optim.Adam(model.parameters(),lr=lr,weight_decay=0.001)\n",
        "epoches=50\n",
        "module(model,lr,optimizer,epoches)"
      ]
    },
    {
      "cell_type": "code",
      "source": [],
      "metadata": {
        "id": "r1qhnLW4K3Or"
      },
      "execution_count": null,
      "outputs": []
    },
    {
      "cell_type": "code",
      "source": [
        "from google.colab import drive\n",
        "drive.mount('/content/drive')"
      ],
      "metadata": {
        "id": "HyFC4N9pV6zF"
      },
      "execution_count": null,
      "outputs": []
    },
    {
      "cell_type": "code",
      "execution_count": null,
      "metadata": {
        "id": "o4VYvgjrqQkQ"
      },
      "outputs": [],
      "source": []
    },
    {
      "cell_type": "markdown",
      "metadata": {
        "id": "5uCcFT3tI5rC"
      },
      "source": [
        "# New Section"
      ]
    }
  ],
  "metadata": {
    "colab": {
      "provenance": []
    },
    "kernelspec": {
      "display_name": "Python 3",
      "name": "python3"
    },
    "language_info": {
      "name": "python"
    }
  },
  "nbformat": 4,
  "nbformat_minor": 0
}